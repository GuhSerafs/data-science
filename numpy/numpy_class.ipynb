{
 "metadata": {
  "language_info": {
   "codemirror_mode": {
    "name": "ipython",
    "version": 3
   },
   "file_extension": ".py",
   "mimetype": "text/x-python",
   "name": "python",
   "nbconvert_exporter": "python",
   "pygments_lexer": "ipython3",
   "version": "3.9.4"
  },
  "orig_nbformat": 2,
  "kernelspec": {
   "name": "python394jvsc74a57bd050f9dc88fbf78228e28ca27dec02a2c0a62082556f09da821a5db223c4e74185",
   "display_name": "Python 3.9.4 64-bit"
  },
  "metadata": {
   "interpreter": {
    "hash": "50f9dc88fbf78228e28ca27dec02a2c0a62082556f09da821a5db223c4e74185"
   }
  }
 },
 "nbformat": 4,
 "nbformat_minor": 2,
 "cells": [
  {
   "source": [
    "# Arrays vs Lists"
   ],
   "cell_type": "markdown",
   "metadata": {}
  },
  {
   "cell_type": "code",
   "execution_count": 29,
   "metadata": {},
   "outputs": [],
   "source": [
    "import numpy as np"
   ]
  },
  {
   "cell_type": "code",
   "execution_count": 4,
   "metadata": {},
   "outputs": [],
   "source": [
    "dummy_list = [1, 2, 3, 4]"
   ]
  },
  {
   "cell_type": "code",
   "execution_count": 5,
   "metadata": {},
   "outputs": [],
   "source": [
    "dummy_array = np.array([1, 2, 3, 4])"
   ]
  },
  {
   "cell_type": "code",
   "execution_count": 7,
   "metadata": {},
   "outputs": [
    {
     "output_type": "stream",
     "name": "stdout",
     "text": [
      "--- List ---\n1\n2\n3\n4\n--- Numpy Array ----\n1\n2\n3\n4\n"
     ]
    }
   ],
   "source": [
    "# Acessando elemento a elemento: \n",
    "print(\"--- List ---\")\n",
    "for each_item in dummy_list: \n",
    "    print(each_item)\n",
    "\n",
    "print(\"--- Numpy Array ----\")\n",
    "for each_item in dummy_array: \n",
    "    print(each_item)"
   ]
  },
  {
   "cell_type": "code",
   "execution_count": 10,
   "metadata": {},
   "outputs": [
    {
     "output_type": "stream",
     "name": "stdout",
     "text": [
      "[1, 2, 3, 4, 5]\n[1, 2, 3, 4, 5, 6]\n"
     ]
    }
   ],
   "source": [
    "# É possível adicionar items a uma lista\n",
    "dummy_list = [1, 2, 3, 4] # Redeclarando a lista para não alterá-la futuramente\n",
    "dummy_list.append(5)\n",
    "\n",
    "print(dummy_list) \n",
    "print(dummy_list + [6]) # + funciona como concatenação"
   ]
  },
  {
   "cell_type": "code",
   "execution_count": 22,
   "metadata": {},
   "outputs": [
    {
     "output_type": "stream",
     "name": "stdout",
     "text": [
      "Falha: 'numpy.ndarray' object has no attribute 'append'\n"
     ]
    }
   ],
   "source": [
    "# No caso do array, não é possível fazer um append\n",
    "try: \n",
    "    dummy_array.append(3)\n",
    "except AttributeError as err: \n",
    "    print(f\"Falha: {err}\")"
   ]
  },
  {
   "cell_type": "code",
   "execution_count": 21,
   "metadata": {},
   "outputs": [
    {
     "output_type": "stream",
     "name": "stdout",
     "text": [
      "[4 5 6 7]\n[7 7 7 7]\nErro: operands could not be broadcast together with shapes (4,) (2,) \n"
     ]
    }
   ],
   "source": [
    "# Além disso, o operador \"+\" funciona de outra forma\n",
    "# Nome técnico desse efeito é \"Broadcasting\"\n",
    "print(dummy_array + np.array([3])) \n",
    "\n",
    "# No caso em que os tamanhos dos vetores casam, \n",
    "# a soma de vetores é realizada normalmente\n",
    "print(dummy_array + np.array([6,5,4,3]))\n",
    "\n",
    "# No caso em que os tamanhos não casam, ocorre um \n",
    "# ValueError\n",
    "try: \n",
    "    print(dummy_array + np.array([3, 2]))\n",
    "except ValueError as err: \n",
    "    #print(\"Não foi possível somar vetores de tamanhos diferentes\")\n",
    "    print(f\"Erro: {err}\")"
   ]
  },
  {
   "cell_type": "code",
   "execution_count": 32,
   "metadata": {},
   "outputs": [
    {
     "output_type": "stream",
     "name": "stdout",
     "text": [
      "[1, 4, 9, 16, 25]\n[ 1  4  9 16]\n[1.         1.41421356 1.73205081 2.        ]\n[0.         0.69314718 1.09861229 1.38629436]\n[ 2.71828183  7.3890561  20.08553692 54.59815003]\n"
     ]
    }
   ],
   "source": [
    "# Em listas, as operações matemáticas tem que ser executadas elemento a elemento\n",
    "squared_list = [element**2 for element in dummy_list]\n",
    "print(squared_list)\n",
    "\n",
    "# Em um np.array, as operações em geral são aplicadas elemento a elemento diretamente\n",
    "print(dummy_array**2)\n",
    "print(np.sqrt(dummy_array))\n",
    "print(np.log(dummy_array))\n",
    "print(np.exp(dummy_array))"
   ]
  },
  {
   "source": [
    "# Produto Escalar (Dot Product)\n",
    "Para dois vetores $[a_1, \\cdots, a_n]$ e $[b_1, \\cdots, b_n]$: \n",
    "$$a \\cdot b = \\sum_{i=1}^n a_i b_i $$"
   ],
   "cell_type": "markdown",
   "metadata": {}
  },
  {
   "cell_type": "code",
   "execution_count": 33,
   "metadata": {},
   "outputs": [
    {
     "output_type": "stream",
     "name": "stdout",
     "text": [
      "35\n"
     ]
    }
   ],
   "source": [
    "# Uma possível implementação \"do zero\"\n",
    "a = np.array([1, 2, 3, 4, 5])\n",
    "b = np.array([5, 4, 3, 2, 1])\n",
    "\n",
    "def my_dot_product(a, b): \n",
    "    dot = 0\n",
    "    for i, j in zip(a, b): \n",
    "        dot += i*j\n",
    "    return dot\n",
    "\n",
    "print(my_dot_product(a, b))"
   ]
  },
  {
   "cell_type": "code",
   "execution_count": 37,
   "metadata": {},
   "outputs": [
    {
     "output_type": "stream",
     "name": "stdout",
     "text": [
      "35\n35\n"
     ]
    }
   ],
   "source": [
    "# Fazendo isso com o numpy (duas formas)\n",
    "print(np.sum(a * b))\n",
    "print(np.dot(a, b))"
   ]
  },
  {
   "source": [
    "# Teste de Velocidade"
   ],
   "cell_type": "markdown",
   "metadata": {}
  },
  {
   "cell_type": "code",
   "execution_count": 42,
   "metadata": {},
   "outputs": [
    {
     "output_type": "stream",
     "name": "stdout",
     "text": [
      "O teste 2 foi executado aproximadamente 20.5 vezes mais rápido.\n"
     ]
    }
   ],
   "source": [
    "from datetime import datetime\r\n",
    "\r\n",
    "a = np.random.randn(100)\r\n",
    "b = np.random.randn(100)\r\n",
    "N = 100000\r\n",
    "\r\n",
    "test1_start_time = datetime.now()\r\n",
    "for n in range(N): \r\n",
    "    my_dot_product(a, b)\r\n",
    "test1_duration = datetime.now() - test1_start_time\r\n",
    "\r\n",
    "test2_start_time = datetime.now()\r\n",
    "for n in range(N): \r\n",
    "    np.dot(a, b)\r\n",
    "test2_duration = datetime.now() - test2_start_time\r\n",
    "\r\n",
    "print(f\"O teste 2 foi executado aproximadamente {round(test1_duration / test2_duration, 1)} vezes mais rápido.\")"
   ]
  },
  {
   "source": [
    "# Matrizes\n",
    "Em geral, as matrizes herdam praticamente todas as propriedades dos vetores. No entanto, tem algumas funções que são específicas para matrizes quadradas, como determinante e inversa."
   ],
   "cell_type": "markdown",
   "metadata": {}
  },
  {
   "cell_type": "code",
   "execution_count": 61,
   "metadata": {},
   "outputs": [
    {
     "output_type": "stream",
     "name": "stdout",
     "text": [
      "[[1 2]\n [3 4]]\nDeterminante da Matrix: \n-2.0000000000000004\nMatriz inversa: \n[[-2.   1. ]\n [ 1.5 -0.5]]\nTraço da matriz: \n5\nVetor formado pelos elementos da diagonal da matriz: \n[1 4]\nMatriz diagonal montada a partir dos elementos do vetor: \n[[1 0]\n [0 4]]\n"
     ]
    }
   ],
   "source": [
    "dummy_matrix = np.array([[1, 2], [3, 4]])\n",
    "print(dummy_matrix)\n",
    "\n",
    "#Determinante\n",
    "determinant = np.linalg.det(dummy_matrix)\n",
    "print(f\"Determinante da Matrix: \\n{determinant}\")\n",
    "\n",
    "# Inversa\n",
    "inverse_dummy_matrix = np.linalg.inv(dummy_matrix)\n",
    "print(f\"Matriz inversa: \\n{inverse_dummy_matrix}\")\n",
    "\n",
    "# Traço\n",
    "trace = np.trace(dummy_matrix)\n",
    "print(f\"Traço da matriz: \\n{trace}\")\n",
    "\n",
    "# Diagonal em uma matriz\n",
    "diag_vector = np.diag(dummy_matrix)\n",
    "print(f\"Vetor formado pelos elementos da diagonal da matriz: \\n{diag_vector}\")\n",
    "\n",
    "# Diagonal em um vetor\n",
    "diag_matrix = np.diag(diag_vector)\n",
    "print(f\"Matriz diagonal montada a partir dos elementos do vetor: \\n{diag_matrix}\")"
   ]
  },
  {
   "source": [
    "# Autovalores e Autovetores\n",
    "\n",
    "Obter as soluções para a equação matricial dada por: \n",
    "\n",
    "$$ Av = \\lambda v \\Longrightarrow (A- \\lambda I)v = 0 $$\n",
    "\n",
    "Menção Honrosa: numpy.linalg.eigh - autovalor e autovetor da matrix hermiteana. "
   ],
   "cell_type": "markdown",
   "metadata": {}
  },
  {
   "cell_type": "code",
   "execution_count": 64,
   "metadata": {},
   "outputs": [
    {
     "output_type": "stream",
     "name": "stdout",
     "text": [
      "[-0.37228132  5.37228132]\n[[-0.82456484 -0.41597356]\n [ 0.56576746 -0.90937671]]\n"
     ]
    }
   ],
   "source": [
    "autovalores, autovetores = np.linalg.eig(dummy_matrix)\n",
    "\n",
    "print(autovalores)\n",
    "print(autovetores)\n"
   ]
  },
  {
   "source": [
    "# Sistema Linear\n",
    "\n",
    "Solução para o sistema: \n",
    "\n",
    "$$ \\begin{bmatrix} 1 & 1 \\\\ 1.5 & 4 \\end{bmatrix} \\begin{bmatrix} x_1 \\\\ x_2 \\end{bmatrix} = \\begin{bmatrix} 2200 \\\\ 5050 \\end{bmatrix}$$\n",
    "\n",
    "$$ Ax = B$$\n",
    "\n",
    "$$ x = A^{-1} B $$"
   ],
   "cell_type": "markdown",
   "metadata": {}
  },
  {
   "cell_type": "code",
   "execution_count": 70,
   "metadata": {},
   "outputs": [
    {
     "output_type": "stream",
     "name": "stdout",
     "text": [
      "[[1500.]\n [ 700.]]\n[[1500.]\n [ 700.]]\n"
     ]
    }
   ],
   "source": [
    "matriz_de_coeficientes = np.array([[1, 1], [1.5, 4]])\n",
    "matriz_de_saídas = np.array([[2200], [5050]])\n",
    "\n",
    "# Solução \"Na raça\"\n",
    "inversa_da_matriz_de_coeficientes = np.linalg.inv(matriz_de_coeficientes)\n",
    "X_raça = np.matmul(inversa_da_matriz_de_coeficientes, matriz_de_saídas)\n",
    "print(X_raça)\n",
    "\n",
    "# Solução otimizada, linalg.solve!\n",
    "X_otimizado = np.linalg.solve(matriz_de_coeficientes, matriz_de_saídas)\n",
    "print(X_otimizado)"
   ]
  }
 ]
}